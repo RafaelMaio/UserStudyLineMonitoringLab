{
 "cells": [
  {
   "cell_type": "code",
   "execution_count": 2,
   "id": "ec868bfe-0b7e-4324-94cd-9c3a1af0b30e",
   "metadata": {
    "tags": []
   },
   "outputs": [],
   "source": [
    "import json\n",
    "import pandas as pd\n",
    "import numpy as np"
   ]
  },
  {
   "cell_type": "code",
   "execution_count": 3,
   "id": "fa286b71-9c29-4d11-a141-0be45498305b",
   "metadata": {
    "tags": []
   },
   "outputs": [],
   "source": [
    "logs = []\n",
    "for i in range(1,9):\n",
    "    with open(f\"Tablet/log_id_{i}.json\") as f:\n",
    "        log = json.load(f)\n",
    "        for l in log:\n",
    "            logs.append(l)\n",
    "\n",
    "with open(f\"Tablet/log_id_video.json\") as f:\n",
    "    log = json.load(f)\n",
    "    for l in log:\n",
    "        logs.append(l)\n",
    "df = pd.DataFrame(logs)"
   ]
  },
  {
   "cell_type": "code",
   "execution_count": 4,
   "id": "5cbd5418-14df-4348-8632-503990b457a8",
   "metadata": {
    "tags": []
   },
   "outputs": [],
   "source": [
    "df[\"environment\"] = \"tablet\"\n",
    "df.to_csv('Tablet/userTestEvents.csv', index=False)"
   ]
  },
  {
   "cell_type": "code",
   "execution_count": 5,
   "id": "84ab8725-c27a-4a7b-a818-38308c6b4562",
   "metadata": {
    "tags": []
   },
   "outputs": [],
   "source": [
    "# df[\"event\"].count()\n",
    "# df[df[\"event\"] == \"void_selection\"]\n",
    "# df[\"id\"] = np.where(df[\"id\"] == \"10\", 0, df[\"id\"])\n",
    "df[\"id\"] = df[\"id\"].where(df[\"id\"] != \"11\", 0)"
   ]
  },
  {
   "cell_type": "code",
   "execution_count": 6,
   "id": "166543f5-d77e-4e50-8ea5-3a5162fddb48",
   "metadata": {
    "tags": []
   },
   "outputs": [],
   "source": [
    "# logs = []\n",
    "# for i in range(1,9):\n",
    "#     with open(f\"webfiles/reqs/RAreq{i}.json\") as f:\n",
    "#         log = json.load(f)\n",
    "#         for l in log:\n",
    "#             logs.append(l)\n",
    "# dfr = pd.DataFrame(logs)"
   ]
  },
  {
   "cell_type": "code",
   "execution_count": 7,
   "id": "4419fc79-be3c-496c-bcb7-f00b05f84dd2",
   "metadata": {
    "tags": []
   },
   "outputs": [],
   "source": [
    "# dfr.to_csv('chartReqs.csv', index=False)"
   ]
  },
  {
   "cell_type": "code",
   "execution_count": 8,
   "id": "6701aaf8-8522-418d-bc51-1cf7e7d6f30e",
   "metadata": {
    "tags": []
   },
   "outputs": [],
   "source": [
    "# endTime = df[(df[\"event\"] == \"start_evaluation\") & (df[\"task\"] == 1)][\"timestamp\"].values # no start enough\n",
    "# startTime = df[(df[\"task\"] == 1)].groupby(\"id\").first()[\"timestamp\"].values\n",
    "# endTime = df[(df[\"task\"] == 2)].groupby(\"id\").first()[\"timestamp\"].values\n",
    "\n",
    "# finalTime = df[(df[\"event\"] == \"finish_task\") & (df[\"task\"] == 5)][\"timestamp\"].values\n",
    "# totalTimes = (finalTime - startTime) / 1000\n",
    "# totalTimes = (endTime - startTime) / 1000\n",
    "# totalTimes"
   ]
  },
  {
   "cell_type": "code",
   "execution_count": 9,
   "id": "8fe610b5-4eae-4ed4-bbbb-0c6f3a8b1591",
   "metadata": {},
   "outputs": [],
   "source": [
    "# \"ID_PARTICIPANTE,TASK_NUMBER,TASK_COMPLETION_TIME,NUMBER_OF_CLICKS_TO_TO_COMPLETE_THE_TASK\"\n",
    "ids = df[\"id\"].unique()\n",
    "\n",
    "dfs = pd.DataFrame({})\n",
    "for task in range(2,6):        \n",
    "    startTime = df[(df[\"task\"] == task-1)].groupby(\"id\").last()[\"timestamp\"].values\n",
    "    endTime = df[(df[\"task\"] == task)].groupby(\"id\").last()[\"timestamp\"].values\n",
    "    taskTimesSeconds = (endTime - startTime) / 1000\n",
    "    clicks = df[(df[\"task\"] == task)].groupby(\"id\")[\"event\"].count().values\n",
    "    dfs = pd.concat([dfs, pd.DataFrame({\"ID_PARTICIPANTE\": ids, \"TASK_NUMBER\": task, \"TASK_COMPLETION_TIME\": taskTimesSeconds,\n",
    "                                       \"NUMBER_OF_CLICKS_TO_TO_COMPLETE_THE_TASK\":clicks})])\n",
    "\n",
    "extra_task = 1\n",
    "startTime = df[(df[\"task\"] == extra_task)].groupby(\"id\").first()[\"timestamp\"].values\n",
    "endTime = df[(df[\"task\"] == extra_task)].groupby(\"id\").last()[\"timestamp\"].values\n",
    "taskTimesSeconds = (endTime - startTime) / 1000\n",
    "clicks = df[(df[\"task\"] == 1)].groupby(\"id\")[\"event\"].count().values\n",
    "dfs = pd.concat([dfs, pd.DataFrame({\"ID_PARTICIPANTE\": ids, \"TASK_NUMBER\": extra_task, \"TASK_COMPLETION_TIME\": taskTimesSeconds,\n",
    "                                   \"NUMBER_OF_CLICKS_TO_TO_COMPLETE_THE_TASK\":clicks})])\n",
    "dfs[\"environment\"] = \"tablet\""
   ]
  },
  {
   "cell_type": "code",
   "execution_count": 10,
   "id": "159ea824-7e29-4f38-99e5-c45c752c61ce",
   "metadata": {
    "tags": []
   },
   "outputs": [],
   "source": [
    "# dfs"
   ]
  },
  {
   "cell_type": "code",
   "execution_count": 11,
   "id": "666ba770-8ed5-4f52-a908-a84f537f7bf9",
   "metadata": {},
   "outputs": [],
   "source": [
    "dfs.to_csv('Tablet/userTestMonitoringTablet.csv', index=False)"
   ]
  },
  {
   "cell_type": "code",
   "execution_count": 12,
   "id": "bc0761b8-6ff9-4499-87b4-8a2630f8fd06",
   "metadata": {
    "tags": []
   },
   "outputs": [],
   "source": [
    "#df[\"event\"].unique()"
   ]
  },
  {
   "cell_type": "code",
   "execution_count": 13,
   "id": "da9bd735-59e7-4f66-8282-8c3fc9403d44",
   "metadata": {
    "tags": []
   },
   "outputs": [
    {
     "data": {
      "text/html": [
       "<div>\n",
       "<style scoped>\n",
       "    .dataframe tbody tr th:only-of-type {\n",
       "        vertical-align: middle;\n",
       "    }\n",
       "\n",
       "    .dataframe tbody tr th {\n",
       "        vertical-align: top;\n",
       "    }\n",
       "\n",
       "    .dataframe thead th {\n",
       "        text-align: right;\n",
       "    }\n",
       "</style>\n",
       "<table border=\"1\" class=\"dataframe\">\n",
       "  <thead>\n",
       "    <tr style=\"text-align: right;\">\n",
       "      <th></th>\n",
       "      <th>ID_PARTICIPANTE</th>\n",
       "      <th>TASK_NUMBER</th>\n",
       "      <th>timestamp</th>\n",
       "      <th>TASK_CLICK_NUMBER</th>\n",
       "      <th>fullEvent</th>\n",
       "      <th>id</th>\n",
       "      <th>task</th>\n",
       "    </tr>\n",
       "  </thead>\n",
       "  <tbody>\n",
       "    <tr>\n",
       "      <th>0</th>\n",
       "      <td>0</td>\n",
       "      <td>1</td>\n",
       "      <td>2023-03-10 19:09:33.732</td>\n",
       "      <td>1</td>\n",
       "      <td>Open: 260</td>\n",
       "      <td>0</td>\n",
       "      <td>1</td>\n",
       "    </tr>\n",
       "    <tr>\n",
       "      <th>1</th>\n",
       "      <td>0</td>\n",
       "      <td>1</td>\n",
       "      <td>2023-03-10 19:09:35.606</td>\n",
       "      <td>2</td>\n",
       "      <td>PersonalInfo/GeneralStationInfo/Buttons/CycleT...</td>\n",
       "      <td>0</td>\n",
       "      <td>1</td>\n",
       "    </tr>\n",
       "    <tr>\n",
       "      <th>2</th>\n",
       "      <td>0</td>\n",
       "      <td>1</td>\n",
       "      <td>2023-03-10 19:09:37.340</td>\n",
       "      <td>3</td>\n",
       "      <td>PersonalInfo/CycleTimesMain/TitleBar/Buttons/B...</td>\n",
       "      <td>0</td>\n",
       "      <td>1</td>\n",
       "    </tr>\n",
       "    <tr>\n",
       "      <th>3</th>\n",
       "      <td>0</td>\n",
       "      <td>2</td>\n",
       "      <td>2023-03-10 19:09:40.271</td>\n",
       "      <td>1</td>\n",
       "      <td>HandMenu/LineMonitoringMenu/UsabilityTaskBar/B...</td>\n",
       "      <td>0</td>\n",
       "      <td>2</td>\n",
       "    </tr>\n",
       "    <tr>\n",
       "      <th>4</th>\n",
       "      <td>0</td>\n",
       "      <td>2</td>\n",
       "      <td>2023-03-10 19:09:42.119</td>\n",
       "      <td>2</td>\n",
       "      <td>PersonalInfo/GeneralStationInfo/Buttons/KPIsBu...</td>\n",
       "      <td>0</td>\n",
       "      <td>2</td>\n",
       "    </tr>\n",
       "    <tr>\n",
       "      <th>...</th>\n",
       "      <td>...</td>\n",
       "      <td>...</td>\n",
       "      <td>...</td>\n",
       "      <td>...</td>\n",
       "      <td>...</td>\n",
       "      <td>...</td>\n",
       "      <td>...</td>\n",
       "    </tr>\n",
       "    <tr>\n",
       "      <th>275</th>\n",
       "      <td>8</td>\n",
       "      <td>5</td>\n",
       "      <td>2023-03-10 16:14:56.452</td>\n",
       "      <td>4</td>\n",
       "      <td>PersonalInfo/GeneralStationInfo/Buttons/KPIsBu...</td>\n",
       "      <td>8</td>\n",
       "      <td>5</td>\n",
       "    </tr>\n",
       "    <tr>\n",
       "      <th>276</th>\n",
       "      <td>8</td>\n",
       "      <td>5</td>\n",
       "      <td>2023-03-10 16:14:58.075</td>\n",
       "      <td>5</td>\n",
       "      <td>PersonalInfo/KPIsMain/Buttons/PartCountButton</td>\n",
       "      <td>8</td>\n",
       "      <td>5</td>\n",
       "    </tr>\n",
       "    <tr>\n",
       "      <th>277</th>\n",
       "      <td>8</td>\n",
       "      <td>5</td>\n",
       "      <td>2023-03-10 16:15:08.476</td>\n",
       "      <td>6</td>\n",
       "      <td>PersonalInfo/KPIsSpecific/ShiftNumberSlider</td>\n",
       "      <td>8</td>\n",
       "      <td>5</td>\n",
       "    </tr>\n",
       "    <tr>\n",
       "      <th>278</th>\n",
       "      <td>8</td>\n",
       "      <td>5</td>\n",
       "      <td>2023-03-10 16:15:24.814</td>\n",
       "      <td>7</td>\n",
       "      <td>PersonalInfo/KPIsSpecific/TitleBar/Buttons/Clo...</td>\n",
       "      <td>8</td>\n",
       "      <td>5</td>\n",
       "    </tr>\n",
       "    <tr>\n",
       "      <th>279</th>\n",
       "      <td>8</td>\n",
       "      <td>6</td>\n",
       "      <td>2023-03-10 16:15:28.150</td>\n",
       "      <td>1</td>\n",
       "      <td>HandMenu/LineMonitoringMenu/UsabilityTaskBar/B...</td>\n",
       "      <td>8</td>\n",
       "      <td>6</td>\n",
       "    </tr>\n",
       "  </tbody>\n",
       "</table>\n",
       "<p>280 rows × 7 columns</p>\n",
       "</div>"
      ],
      "text/plain": [
       "     ID_PARTICIPANTE  TASK_NUMBER               timestamp  TASK_CLICK_NUMBER  \\\n",
       "0                  0            1 2023-03-10 19:09:33.732                  1   \n",
       "1                  0            1 2023-03-10 19:09:35.606                  2   \n",
       "2                  0            1 2023-03-10 19:09:37.340                  3   \n",
       "3                  0            2 2023-03-10 19:09:40.271                  1   \n",
       "4                  0            2 2023-03-10 19:09:42.119                  2   \n",
       "..               ...          ...                     ...                ...   \n",
       "275                8            5 2023-03-10 16:14:56.452                  4   \n",
       "276                8            5 2023-03-10 16:14:58.075                  5   \n",
       "277                8            5 2023-03-10 16:15:08.476                  6   \n",
       "278                8            5 2023-03-10 16:15:24.814                  7   \n",
       "279                8            6 2023-03-10 16:15:28.150                  1   \n",
       "\n",
       "                                             fullEvent  id  task  \n",
       "0                                            Open: 260   0     1  \n",
       "1    PersonalInfo/GeneralStationInfo/Buttons/CycleT...   0     1  \n",
       "2    PersonalInfo/CycleTimesMain/TitleBar/Buttons/B...   0     1  \n",
       "3    HandMenu/LineMonitoringMenu/UsabilityTaskBar/B...   0     2  \n",
       "4    PersonalInfo/GeneralStationInfo/Buttons/KPIsBu...   0     2  \n",
       "..                                                 ...  ..   ...  \n",
       "275  PersonalInfo/GeneralStationInfo/Buttons/KPIsBu...   8     5  \n",
       "276      PersonalInfo/KPIsMain/Buttons/PartCountButton   8     5  \n",
       "277        PersonalInfo/KPIsSpecific/ShiftNumberSlider   8     5  \n",
       "278  PersonalInfo/KPIsSpecific/TitleBar/Buttons/Clo...   8     5  \n",
       "279  HandMenu/LineMonitoringMenu/UsabilityTaskBar/B...   8     6  \n",
       "\n",
       "[280 rows x 7 columns]"
      ]
     },
     "execution_count": 13,
     "metadata": {},
     "output_type": "execute_result"
    }
   ],
   "source": [
    "dfar = pd.read_csv(\"AR/userTestEvents.txt\")\n",
    "dfar[\"id\"] = dfar[\"ID_PARTICIPANTE\"]\n",
    "dfar[\"task\"] = dfar[\"TASK_NUMBER\"]\n",
    "\n",
    "dfar[\"TIME_OF_EVENT\"] = dfar[\"TIME_OF_EVENT\"].apply(lambda a: a[len(\"738579.\"):-len(\"7230\")])\n",
    "dfar[\"TIME_OF_EVENT\"] = np.where((dfar[\"id\"] == \"1\") | (dfar[\"id\"] == \"2\"),\n",
    "                                 dfar[\"TIME_OF_EVENT\"].apply(lambda a: \"2023-03-09 \" + a),\n",
    "                                 dfar[\"TIME_OF_EVENT\"].apply(lambda a: \"2023-03-10 \" + a))\n",
    "dfar[\"TIME_OF_EVENT\"] = pd.to_datetime(dfar[\"TIME_OF_EVENT\"])\n",
    "dfar = dfar.rename(columns={\"EVENT\": \"fullEvent\", \"TIME_OF_EVENT\": \"timestamp\"})\n",
    "dfar"
   ]
  },
  {
   "cell_type": "code",
   "execution_count": 14,
   "id": "d11d9514-1ede-4e95-a260-b0855125f4af",
   "metadata": {
    "tags": []
   },
   "outputs": [],
   "source": [
    "with open(f\"AR/eventsARList.json\") as f:\n",
    "    arevents = json.load(f)"
   ]
  },
  {
   "cell_type": "code",
   "execution_count": 15,
   "id": "b9236bb3-7a3a-406a-9352-053096d4c6b5",
   "metadata": {
    "tags": []
   },
   "outputs": [],
   "source": [
    "# day = pd.to_datetime(df[df[\"id\"] != 0][\"timestamp\"],unit='ms')\n",
    "# day\n",
    "# pd.concat([df,day],axis=1).groupby(\"id\").first()"
   ]
  },
  {
   "cell_type": "code",
   "execution_count": 16,
   "id": "d4a312ff-ac00-4854-b899-6d96a13b35c5",
   "metadata": {
    "tags": []
   },
   "outputs": [],
   "source": [
    "subkeys = [\"event\", \"context\", \"subcontext\", \"attr\"]\n",
    "for key in list(arevents.keys())[1:]:\n",
    "    are = arevents[key]\n",
    "    evs = [are.get(sub, None) for sub in subkeys]\n",
    "    dfar.loc[dfar[\"fullEvent\"] == key, subkeys] = evs\n",
    "\n",
    "for station in [\"260\", \"270\", \"290\"]:\n",
    "    dfar.loc[dfar[\"fullEvent\"] == f\"Open: {station}\", [\"event\", \"station\"]] = [\"select_station\", station] \n",
    "dfar = dfar.drop(['ID_PARTICIPANTE', 'TASK_NUMBER'], axis=1)\n",
    "dfar[\"environment\"] = \"ar\""
   ]
  },
  {
   "cell_type": "code",
   "execution_count": 17,
   "id": "bb247bb7-bbd5-4f7d-93bb-cba511a08c16",
   "metadata": {
    "tags": []
   },
   "outputs": [],
   "source": [
    "dfar.to_csv('AR/userTestEvents.csv', index=False)"
   ]
  },
  {
   "cell_type": "code",
   "execution_count": 21,
   "id": "7f3ae16a-65e5-4bd3-8d78-6532c6dff695",
   "metadata": {
    "tags": []
   },
   "outputs": [],
   "source": [
    "dfmon = pd.read_csv(\"AR/userTestMonitoringAR.txt\")\n",
    "dfmon[\"TASK_COMPLETION_TIME\"] = dfmon[\"TASK_COMPLETION_TIME\"].apply(lambda a: 60*float(a[len(\"00:\"):len(\"00:\")+2]) + float(a[len(\"00:00:\"):]))\n",
    "dfmon[\"environment\"] = \"ar\"\n",
    "dfmon.to_csv(\"AR/userTestMonitoringAR.csv\", index=False)"
   ]
  },
  {
   "cell_type": "code",
   "execution_count": 36,
   "id": "af76fc3c-b199-49c9-811f-94879cda7faa",
   "metadata": {},
   "outputs": [
    {
     "name": "stdout",
     "output_type": "stream",
     "text": [
      "4 3 ar\n"
     ]
    },
    {
     "data": {
      "text/plain": [
       "90                       NaT\n",
       "91    0 days 00:00:07.452000\n",
       "92    0 days 00:00:17.592000\n",
       "93    0 days 00:00:08.938000\n",
       "94    0 days 00:00:10.967000\n",
       "95    0 days 00:00:01.907000\n",
       "96    0 days 00:00:03.538000\n",
       "97    0 days 00:00:00.615000\n",
       "98    0 days 00:00:00.214000\n",
       "99    0 days 00:00:01.185000\n",
       "100   0 days 00:00:01.899000\n",
       "101   0 days 00:00:02.688000\n",
       "102   0 days 00:00:04.166000\n",
       "103   0 days 00:00:05.064000\n",
       "104   0 days 00:00:34.117000\n",
       "105   0 days 00:00:01.917000\n",
       "106   0 days 00:00:01.713000\n",
       "Name: timestamp, dtype: timedelta64[ns]"
      ]
     },
     "execution_count": 36,
     "metadata": {},
     "output_type": "execute_result"
    }
   ],
   "source": [
    "# task=4\n",
    "# part=\"3\"\n",
    "# env=\"ar\"\n",
    "# print(task,part,env)\n",
    "# c = (dfar[\"task\"] == task) & (dfar[\"environment\"] == env) & (dfar[\"id\"] == part)\n",
    "\n",
    "# dfar[c][\"timestamp\"] - dfar[c][\"timestamp\"].shift()"
   ]
  },
  {
   "cell_type": "code",
   "execution_count": 41,
   "id": "05d49dd0-c990-4074-95bb-1d08f90c2e2b",
   "metadata": {
    "tags": []
   },
   "outputs": [],
   "source": [
    "finalMon = pd.concat([dfmon, dfs])\n",
    "finalMon.to_csv(\"datasets/userTestMonitoring.csv\", index=False)\n",
    "\n",
    "df[\"timestamp\"] = pd.to_datetime(df[\"timestamp\"], unit='ms')\n",
    "df[\"id\"] = df[\"id\"].apply(lambda a: str(a))\n",
    "dfar[\"id\"] = dfar[\"id\"].apply(lambda a: str(a))\n",
    "finalTest = pd.concat([dfar, df])\n",
    "\n",
    "finalTest[\"time\"] = finalTest[\"timestamp\"].values.astype(np.int64) / 10 ** 9. ## // 10 ** 9\n",
    "for task in range(1,6):\n",
    "    for env in [\"ar\", \"tablet\"]:\n",
    "        for part in finalTest[\"id\"].unique():\n",
    "            cond = (finalTest[\"task\"] == task) & (finalTest[\"environment\"] == env) & (finalTest[\"id\"] == str(part)) \n",
    "            if (len(finalTest[cond][\"time\"].values) > 0):\n",
    "                # print(finalTest[cond][\"time\"] - finalTest[cond][\"time\"].shift(), env)\n",
    "                finalTest.loc[cond,\"time\"] = (finalTest[cond][\"time\"] - finalTest[cond][\"time\"].values[0]).astype(float)\n",
    "                finalTest.loc[cond,\"time_shift\"] = finalTest[cond][\"time\"] - finalTest[cond][\"time\"].shift()\n",
    "            else:\n",
    "                finalTest.loc[cond,\"time\"] = 0\n",
    "                finalTest.loc[cond,\"time_shift\"] = 0\n",
    "\n",
    "finalTest.to_csv('datasets/userTestEvents.csv', index=False)"
   ]
  }
 ],
 "metadata": {
  "kernelspec": {
   "display_name": "Python 3 (ipykernel)",
   "language": "python",
   "name": "python3"
  },
  "language_info": {
   "codemirror_mode": {
    "name": "ipython",
    "version": 3
   },
   "file_extension": ".py",
   "mimetype": "text/x-python",
   "name": "python",
   "nbconvert_exporter": "python",
   "pygments_lexer": "ipython3",
   "version": "3.11.2"
  }
 },
 "nbformat": 4,
 "nbformat_minor": 5
}
